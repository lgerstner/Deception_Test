{
 "cells": [
  {
   "cell_type": "markdown",
   "metadata": {},
   "source": [
    "### Data Analysis on Sanctioned Lies Data Set\n"
   ]
  },
  {
   "cell_type": "code",
   "execution_count": null,
   "metadata": {
    "collapsed": true
   },
   "outputs": [],
   "source": [
    "import pandas as pd\n",
    "import statsmodels.api as sm\n",
    "from statsmodels.formula.api import ols\n",
    "import scipy.stats as stats\n",
    "from statsmodels.stats.multicomp import pairwise_tukeyhsd\n",
    "from statsmodels.stats.multicomp import MultiComparison\n",
    "import statsmodels.stats.multicomp as ml\n",
    "import numpy as np\n",
    "import matplotlib.pyplot as plt\n",
    "from scipy.stats import friedmanchisquare\n",
    "%matplotlib inline"
   ]
  },
  {
   "cell_type": "code",
   "execution_count": null,
   "metadata": {
    "collapsed": true
   },
   "outputs": [],
   "source": [
    "# Read in data file, make it into a dataframe\n",
    "f=pd.read_csv(\"../deception_data/n151_2017/liwc_au.csv\")"
   ]
  },
  {
   "cell_type": "code",
   "execution_count": null,
   "metadata": {
    "collapsed": true
   },
   "outputs": [],
   "source": [
    "# keep only the AU's, filename, and question\n",
    "keep_col = ['Filename','question','AU01_r','AU02_r','AU04_r','AU05_r','AU06_r','AU07_r','AU09_r','AU10_r','AU12_r','AU14_r','AU15_r','AU17_r','AU20_r','AU23_r','AU25_r','AU26_r','AU45_r']\n",
    "new_f = f[keep_col]\n",
    "new_f.to_csv(\"old_data_au.csv\", index=False)"
   ]
  },
  {
   "cell_type": "code",
   "execution_count": null,
   "metadata": {
    "collapsed": true
   },
   "outputs": [],
   "source": [
    "## Make a subset of the data that includes only the baseline questions\n",
    "df = new_f[(new_f['question'] < 5)]"
   ]
  },
  {
   "cell_type": "code",
   "execution_count": null,
   "metadata": {
    "collapsed": true
   },
   "outputs": [],
   "source": [
    "print(df)"
   ]
  },
  {
   "cell_type": "code",
   "execution_count": null,
   "metadata": {
    "collapsed": true
   },
   "outputs": [],
   "source": [
    "# Function to label each  question based on mental state\n",
    "def label_question (row):\n",
    "   if row['question'] == 0 :\n",
    "      return 'ambiguous'\n",
    "   if row['question'] == 1 :\n",
    "      return 'baseline_truth'\n",
    "   if row['question'] == 2 :\n",
    "      return 'memory_recall'\n",
    "   if row['question'] == 3 :\n",
    "      return 'cognitive'\n",
    "   if row['question'] == 4 :\n",
    "      return 'uncomfortable'\n",
    "   return 'Other'"
   ]
  },
  {
   "cell_type": "code",
   "execution_count": null,
   "metadata": {
    "collapsed": true
   },
   "outputs": [],
   "source": [
    "df['question_label'] = df.apply(lambda row: label_question (row),axis=1)"
   ]
  },
  {
   "cell_type": "code",
   "execution_count": null,
   "metadata": {
    "collapsed": true
   },
   "outputs": [],
   "source": [
    "df.to_csv(\"baseline_questions.csv\", index=False)"
   ]
  },
  {
   "cell_type": "code",
   "execution_count": null,
   "metadata": {},
   "outputs": [],
   "source": [
    "df"
   ]
  },
  {
   "cell_type": "code",
   "execution_count": null,
   "metadata": {
    "collapsed": true
   },
   "outputs": [],
   "source": [
    "# Partition the data based on question label \n",
    "amb = df[(df['question_label'] == 'ambiguous')]\n",
    "bt = df[(df['question_label'] == 'baseline_truth')]\n",
    "mr = df[(df['question_label'] == 'memory_recall')]\n",
    "cog = df[(df['question_label'] == 'cognitive')]\n",
    "unc = df[(df['question_label'] == 'uncomfortable')]\n",
    "\n",
    "df2 = pd.DataFrame([])\n",
    "df3 = pd.DataFrame([])\n",
    "\n",
    "# display average au levels for each type of baseline question\n",
    "for d in [amb,bt,mr,cog,unc]:\n",
    "    print('----')\n",
    "    print(d.mean())\n",
    "    df2 = df2.append(d.mean(), ignore_index=True)\n",
    "    df3 = df3.append(d, ignore_index=True)"
   ]
  },
  {
   "cell_type": "code",
   "execution_count": null,
   "metadata": {
    "collapsed": true
   },
   "outputs": [],
   "source": [
    "print(amb)"
   ]
  },
  {
   "cell_type": "code",
   "execution_count": null,
   "metadata": {
    "collapsed": true
   },
   "outputs": [],
   "source": [
    "# Use the ANOVA one way test for each AU level (Is not correct since it uses linear regression)\n",
    "for c in df3.iloc[:,2:-1]:\n",
    "    print(c)\n",
    "    lm = ols('df3[c] ~ question',data=df3).fit()\n",
    "\n",
    "    table = sm.stats.anova_lm(lm, typ=1) # Type 2 ANOVA DataFrame\n",
    "    print(table)\n",
    "    print('-------\\n')"
   ]
  },
  {
   "cell_type": "code",
   "execution_count": null,
   "metadata": {
    "collapsed": true
   },
   "outputs": [],
   "source": [
    "print(df2)"
   ]
  },
  {
   "cell_type": "code",
   "execution_count": null,
   "metadata": {
    "collapsed": true
   },
   "outputs": [],
   "source": [
    "ambAU01 = amb['AU01_r']\n",
    "print(ambAU01)"
   ]
  },
  {
   "cell_type": "code",
   "execution_count": null,
   "metadata": {
    "collapsed": true
   },
   "outputs": [],
   "source": [
    "# Use the ANOVA one way test for each AU level\n",
    "\n",
    "for c in df3.iloc[:,2:-1]:\n",
    "    print(c)\n",
    "    F, p = stats.f_oneway(amb[c],bt[c],mr[c],cog[c],unc[c])\n",
    "    print(F,p)\n",
    "    print('-------\\n')\n",
    "    \n",
    "                     \n"
   ]
  },
  {
   "cell_type": "code",
   "execution_count": null,
   "metadata": {},
   "outputs": [],
   "source": [
    "# Use Friedman Test since the data is not normally distributed\n",
    "\n",
    "for c in df3.iloc[:,2:-1]:\n",
    "    print(c)\n",
    "    print(len(amb[c]))\n",
    "    print(len(bt[c]))\n",
    "    print(len(mr[c]))\n",
    "    print(len(cog[c]))\n",
    "    print(len(unc[c]))\n",
    "    stat, p = friedmanchisquare(amb[c],bt[c],mr[c],cog[c],unc[c])\n",
    "    print(stat,p)\n",
    "    print('-------\\n')\n",
    "    \n",
    "                     "
   ]
  },
  {
   "cell_type": "code",
   "execution_count": null,
   "metadata": {
    "collapsed": true
   },
   "outputs": [],
   "source": [
    "df3"
   ]
  },
  {
   "cell_type": "code",
   "execution_count": null,
   "metadata": {
    "collapsed": true
   },
   "outputs": [],
   "source": [
    "# Now that we have a p-value for AU05 of ~ .06 use Tukey's test to see where\n",
    "# the significance is coming from\n",
    "\n",
    "mc = MultiComparison(df3['AU05_r'],df3['question_label'])\n",
    "result = mc.tukeyhsd()\n",
    " \n",
    "print(result)\n",
    "print(mc.groupsunique)\n"
   ]
  },
  {
   "cell_type": "code",
   "execution_count": null,
   "metadata": {
    "collapsed": true
   },
   "outputs": [],
   "source": [
    "# Now that we have a p-value for AU25 of < .05 use Tukey's test to see where\n",
    "# the significance is coming from\n",
    "\n",
    "mc = MultiComparison(df3['AU25_r'],df3['question_label'])\n",
    "result = mc.tukeyhsd()\n",
    " \n",
    "print(result)\n",
    "print(mc.groupsunique)"
   ]
  },
  {
   "cell_type": "code",
   "execution_count": null,
   "metadata": {
    "collapsed": true
   },
   "outputs": [],
   "source": [
    "df2"
   ]
  },
  {
   "cell_type": "code",
   "execution_count": null,
   "metadata": {
    "collapsed": true
   },
   "outputs": [],
   "source": [
    "# Plot histograms for distributions of AU levels\n",
    "for c in df3.iloc[:,2:-1]:\n",
    "    df3.hist(column = df3[c].name,bins=100)\n",
    "    \n",
    "    \n"
   ]
  },
  {
   "cell_type": "code",
   "execution_count": null,
   "metadata": {
    "collapsed": true,
    "scrolled": false
   },
   "outputs": [],
   "source": [
    "# Plot average AU level for each AU for each question \n",
    "for c in df2.iloc[:,:-1]:\n",
    "    au = pd.DataFrame([])\n",
    "    au = df2.filter([c],axis=1)\n",
    "    au.plot.bar()\n",
    "    "
   ]
  }
 ],
 "metadata": {
  "kernelspec": {
   "display_name": "Python 3",
   "language": "python",
   "name": "python3"
  },
  "language_info": {
   "codemirror_mode": {
    "name": "ipython",
    "version": 3
   },
   "file_extension": ".py",
   "mimetype": "text/x-python",
   "name": "python",
   "nbconvert_exporter": "python",
   "pygments_lexer": "ipython3",
   "version": "3.6.3"
  }
 },
 "nbformat": 4,
 "nbformat_minor": 2
}
