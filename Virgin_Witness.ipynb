{
 "cells": [
  {
   "cell_type": "markdown",
   "metadata": {},
   "source": [
    "## Data Analysis on Sanctioned Lies Data Set with Virgin Witnesses Only"
   ]
  },
  {
   "cell_type": "code",
   "execution_count": null,
   "metadata": {},
   "outputs": [],
   "source": [
    "import pandas as pd\n",
    "import statsmodels.api as sm\n",
    "from statsmodels.formula.api import ols\n",
    "import scipy.stats as stats\n",
    "from statsmodels.stats.multicomp import pairwise_tukeyhsd\n",
    "from statsmodels.stats.multicomp import MultiComparison\n",
    "import statsmodels.stats.multicomp as ml\n",
    "import numpy as np\n",
    "import matplotlib.pyplot as plt\n",
    "from scipy.stats import friedmanchisquare\n",
    "%matplotlib inline"
   ]
  },
  {
   "cell_type": "code",
   "execution_count": null,
   "metadata": {
    "collapsed": true
   },
   "outputs": [],
   "source": [
    "df=pd.read_csv(\"equal_baseline.csv\")\n",
    "df2 = pd.DataFrame([])\n",
    "name_dict = []\n",
    "good_files = []\n",
    "datetimes = []\n",
    "describer_count = 0 \n",
    "good_describer = ['2016-06-15_14-19-27-616-W-B-describer_openface.csv',\n",
    "                  '2016-06-27_13-10-48-352-W-T-describer_openface.csv',\n",
    "                  '2016-06-30_14-03-23-90-W-T-describer_openface.csv',\n",
    "                  '2016-07-01_11-11-17-124-W-B-describer_openface.csv',\n",
    "                  '2016-07-01_11-21-24-649-W-T-describer_openface.csv',\n",
    "                  '2016-07-01_14-09-14-629-W-B-describer_openface.csv',\n",
    "                  '2016-07-01_14-17-15-163-W-B-describer_openface.csv',\n",
    "                  '2017-01-24_13-14-08-252-W-T-describer_openface.csv',\n",
    "                  '2017-01-24_13-24-30-926-W-B-describer_openface.csv',\n",
    "                  '2017-01-26_14-16-48-797-W-T-describer_openface.csv',\n",
    "                  '2017-01-26_14-26-15-622-W-B-describer_openface.csv',\n",
    "                  '2017-01-26_14-38-29-906-W-T-describer_openface.csv',\n",
    "                  '2017-01-26_14-47-20-540-W-B-describer_openface.csv',\n",
    "                  '2017-03-03_11-20-05-755-W-T-describer_openface.csv',\n",
    "                  '2017-03-03_11-35-42-851-W-B-describer_openface.csv',\n",
    "                  '2017-03-03_12-14-45-849-W-B-describer_openface.csv',\n",
    "                  '2017-03-03_12-22-10-468-W-T-describer_openface.csv',\n",
    "                  '2017-03-03_13-12-03-237-W-B-describer_openface.csv',\n",
    "                  '2017-03-03_13-20-28-731-W-T-describer_openface.csv',\n",
    "                  '2017-03-03_13-30-40-756-W-B-describer_openface.csv',\n",
    "                  '2017-03-08_12-08-33-112-W-B-describer_openface.csv',\n",
    "                  '2017-03-08_13-12-38-74-W-T-describer_openface.csv',\n",
    "                  '2017-03-08_13-24-24-724-W-T-describer_openface.csv',\n",
    "                  '2017-03-24_10-48-39-430-W-B-describer_openface.csv',\n",
    "                  '2017-03-24_11-44-02-309-W-T-describer_openface.csv',\n",
    "                  '2017-03-24_12-40-18-142-W-T-describer_openface.csv',\n",
    "                  '2017-03-24_12-48-00-366-W-T-describer_openface.csv',\n",
    "                  '2017-03-29_12-14-08-617-W-T-describer_openface.csv',\n",
    "                  '2017-03-29_13-29-09-99-W-T-describer_openface.csv',\n",
    "                  '2017-04-04_13-18-48-414-W-T-describer_openface.csv',\n",
    "                  '2017-04-04_13-27-35-915-W-B-describer_openface.csv',\n",
    "                  '2017-04-04_13-58-57-956-W-T-describer_openface.csv']"
   ]
  },
  {
   "cell_type": "code",
   "execution_count": null,
   "metadata": {},
   "outputs": [],
   "source": [
    "df['virgin_witness'] = 0\n",
    "df"
   ]
  },
  {
   "cell_type": "code",
   "execution_count": null,
   "metadata": {},
   "outputs": [],
   "source": [
    "files = df['Filename'].values\n",
    "files"
   ]
  },
  {
   "cell_type": "code",
   "execution_count": null,
   "metadata": {
    "collapsed": true
   },
   "outputs": [],
   "source": [
    "i = 0\n",
    "for file in files:\n",
    "    word_list = file.split(\"-\")\n",
    "    username = word_list[8]\n",
    "    # check to see if the username is describer \n",
    "    if 'describer' in username:\n",
    "        describer_count = describer_count + 1\n",
    "    # check if username has already been used\n",
    "    if username in name_dict:\n",
    "        # check to see if the exact same date has already been used because that means it is still the first time for witness\n",
    "        if file in good_files:\n",
    "                df.loc[i,'virgin_witness'] = 1\n",
    "        else:\n",
    "        # if username has been used and it is a new date that means it is not the first time for the witness\n",
    "                df.loc[i,'virgin_witness'] = 0   \n",
    "    else:\n",
    "        # if the username is not in the list add it\n",
    "        name_dict.append(username)\n",
    "        # add this file to the list of files that are a virgin witness\n",
    "        good_files.append(file)\n",
    "        # add the name of the file to the good file list\n",
    "       # good_files.append(datetime)\n",
    "        # The person is a virgin witness if their name is not in the names list at all\n",
    "        df.loc[i,'virgin_witness'] = 1\n",
    "    i = i+1\n",
    "    "
   ]
  },
  {
   "cell_type": "code",
   "execution_count": null,
   "metadata": {},
   "outputs": [],
   "source": [
    "dfnon_virgin = df[df['virgin_witness'] == 0]\n",
    "\n",
    "with pd.option_context('display.max_rows', 999,'display.max_columns',1):\n",
    "      print(dfnon_virgin)"
   ]
  },
  {
   "cell_type": "code",
   "execution_count": null,
   "metadata": {
    "collapsed": true
   },
   "outputs": [],
   "source": [
    "virgin_witness = df[(df['virgin_witness'] == 1)]\n",
    "virgin_witness.to_csv(\"virgin_witness3.csv\", index=False)"
   ]
  },
  {
   "cell_type": "code",
   "execution_count": null,
   "metadata": {
    "collapsed": true
   },
   "outputs": [],
   "source": [
    "virgin_witness"
   ]
  },
  {
   "cell_type": "code",
   "execution_count": null,
   "metadata": {},
   "outputs": [],
   "source": [
    "amb = virgin_witness[(virgin_witness['question_label'] == 'ambiguous')]\n",
    "bt = virgin_witness[(virgin_witness['question_label'] == 'baseline_truth')]\n",
    "mr = virgin_witness[(virgin_witness['question_label'] == 'memory_recall')]\n",
    "cog = virgin_witness[(virgin_witness['question_label'] == 'cognitive')]\n",
    "unc = virgin_witness[(virgin_witness['question_label'] == 'uncomfortable')]\n",
    "\n",
    "df2 = pd.DataFrame([])\n",
    "df3 = pd.DataFrame([])\n",
    "\n",
    "# display average au levels for each type of baseline question\n",
    "for d in [amb,bt,mr,cog,unc]:\n",
    "    print('----')\n",
    "    print(d.mean())\n",
    "    df2 = df2.append(d.mean(), ignore_index=True)\n",
    "    df3 = df3.append(d, ignore_index=True)"
   ]
  },
  {
   "cell_type": "code",
   "execution_count": null,
   "metadata": {
    "collapsed": true
   },
   "outputs": [],
   "source": [
    "# Plot histograms for distributions of AU levels\n",
    "for c in virgin_witness.iloc[:,2:-2]:\n",
    "    virgin_witness.hist(column = virgin_witness[c].name,bins=100)\n",
    "    \n"
   ]
  },
  {
   "cell_type": "code",
   "execution_count": null,
   "metadata": {},
   "outputs": [],
   "source": [
    "# Plot average AU level for each AU for each question \n",
    "for c in df2.iloc[:,:-2]:\n",
    "    au = pd.DataFrame([])\n",
    "    au = df2.filter([c],axis=1)\n",
    "    au.plot.bar()"
   ]
  },
  {
   "cell_type": "code",
   "execution_count": null,
   "metadata": {},
   "outputs": [],
   "source": [
    "# Plot boxplots for each AU across each question\n",
    "for c in df2.iloc[:,:-2]:\n",
    "    df.boxplot(column = c, by = 'question_label')\n",
    "    plt.title(c)\n",
    "    plt.suptitle('')\n",
    "    plt.show"
   ]
  },
  {
   "cell_type": "code",
   "execution_count": null,
   "metadata": {
    "scrolled": true
   },
   "outputs": [],
   "source": [
    "# Use Friedman's test for each AU level\n",
    "\n",
    "for c in df3.iloc[:,2:-2]:\n",
    "    print(c)\n",
    "    stat, p = friedmanchisquare(amb[c],bt[c],mr[c],cog[c],unc[c])\n",
    "    print(stat,p)\n",
    "    print('-------\\n')\n",
    "    \n",
    "                   "
   ]
  },
  {
   "cell_type": "markdown",
   "metadata": {},
   "source": [
    "### Compare ambiguous to all other groups"
   ]
  },
  {
   "cell_type": "code",
   "execution_count": null,
   "metadata": {},
   "outputs": [],
   "source": [
    "# Compare ambiguous and baseline truth \n",
    "\n",
    "for c in df3.iloc[:,2:-2]:\n",
    "    print(c)\n",
    "    stat, p = stats.mannwhitneyu(amb[c],bt[c])    \n",
    "    p = p * 10\n",
    "    if p < .05:\n",
    "        print('Significant with p-value: ' , p)\n",
    "    print('-------\\n')\n",
    "    "
   ]
  },
  {
   "cell_type": "code",
   "execution_count": null,
   "metadata": {},
   "outputs": [],
   "source": [
    "# Compare ambiguous and memory recall\n",
    "\n",
    "for c in df3.iloc[:,2:-2]:\n",
    "    print(c)\n",
    "    stat, p = stats.mannwhitneyu(amb[c],mr[c])  \n",
    "    p = p * 10\n",
    "    if p < .05:\n",
    "        print('Significant with p-value: ' , p)\n",
    "    print('-------\\n')\n",
    "    "
   ]
  },
  {
   "cell_type": "code",
   "execution_count": null,
   "metadata": {},
   "outputs": [],
   "source": [
    "# Compare ambiguous and cognitive\n",
    "\n",
    "for c in df3.iloc[:,2:-2]:\n",
    "    print(c)\n",
    "    stat, p = stats.mannwhitneyu(amb[c],cog[c])    \n",
    "    p = p * 10\n",
    "    if p < .05:\n",
    "        print('Significant with p-value: ' , p)\n",
    "    print('-------\\n')"
   ]
  },
  {
   "cell_type": "code",
   "execution_count": null,
   "metadata": {},
   "outputs": [],
   "source": [
    "# Compare ambiguous and uncomfortable\n",
    "\n",
    "for c in df3.iloc[:,2:-2]:\n",
    "    print(c)\n",
    "    stat, p = stats.mannwhitneyu(amb[c],unc[c])\n",
    "    p = p * 10\n",
    "    if p < .05:\n",
    "        print('Significant with p-value: ' , p)\n",
    "    print('-------\\n')\n",
    "    "
   ]
  },
  {
   "cell_type": "markdown",
   "metadata": {},
   "source": [
    "### Compare baseline truth to other groups"
   ]
  },
  {
   "cell_type": "code",
   "execution_count": null,
   "metadata": {},
   "outputs": [],
   "source": [
    "# Compare baseline truth and memory recall \n",
    "\n",
    "for c in df3.iloc[:,2:-2]:\n",
    "    print(c)\n",
    "    stat, p = stats.mannwhitneyu(bt[c],mr[c])\n",
    "    p = p * 10\n",
    "    if p < .05:\n",
    "        print('Significant with p-value: ' , p)\n",
    "    print('-------\\n')\n",
    "    "
   ]
  },
  {
   "cell_type": "code",
   "execution_count": null,
   "metadata": {},
   "outputs": [],
   "source": [
    "# Compare baseline truth and cognitive\n",
    "\n",
    "for c in df3.iloc[:,2:-2]:\n",
    "    print(c)\n",
    "    stat, p = stats.mannwhitneyu(bt[c],cog[c])   \n",
    "    p = p * 10\n",
    "    if p < .05:\n",
    "        print('Significant with p-value: ' , p)\n",
    "    print('-------\\n')\n",
    "    "
   ]
  },
  {
   "cell_type": "code",
   "execution_count": null,
   "metadata": {},
   "outputs": [],
   "source": [
    "# Compare baseline truth and uncomfortable\n",
    "\n",
    "for c in df3.iloc[:,2:-2]:\n",
    "    print(c)\n",
    "    stat, p = stats.mannwhitneyu(bt[c],unc[c]) \n",
    "    p = p * 10\n",
    "    if p < .05:\n",
    "        print('Significant with p-value: ' , p)\n",
    "    print('-------\\n')"
   ]
  },
  {
   "cell_type": "code",
   "execution_count": null,
   "metadata": {},
   "outputs": [],
   "source": [
    "# Compare memory recall and cognitive\n",
    "\n",
    "for c in df3.iloc[:,2:-2]:\n",
    "    print(c)\n",
    "    stat, p = stats.mannwhitneyu(mr[c],cog[c])\n",
    "    p = p * 10\n",
    "    if p < .05:\n",
    "        print('Significant with p-value: ' , p)\n",
    "    print('-------\\n')\n",
    "    "
   ]
  },
  {
   "cell_type": "code",
   "execution_count": null,
   "metadata": {},
   "outputs": [],
   "source": [
    "# Compare memory recall and uncomfortable\n",
    "\n",
    "for c in df3.iloc[:,2:-2]:\n",
    "    print(c)\n",
    "    stat, p = stats.mannwhitneyu(mr[c],unc[c])    \n",
    "    p = p * 10\n",
    "    if p < .05:\n",
    "        print('Significant with p-value: ' , p)\n",
    "    print('-------\\n')\n",
    "    "
   ]
  },
  {
   "cell_type": "markdown",
   "metadata": {},
   "source": [
    "### Compare cognitive to last group"
   ]
  },
  {
   "cell_type": "code",
   "execution_count": null,
   "metadata": {},
   "outputs": [],
   "source": [
    "# Compare cognitive and uncomfortable\n",
    "\n",
    "for c in df3.iloc[:,2:-2]:\n",
    "    print(c)\n",
    "    stat, p = stats.mannwhitneyu(cog[c],unc[c])   \n",
    "    p = p * 10\n",
    "    if p < .05:\n",
    "        print('Significant with p-value: ' , p)\n",
    "    print('-------\\n')\n",
    "    "
   ]
  }
 ],
 "metadata": {
  "kernelspec": {
   "display_name": "Python 3",
   "language": "python",
   "name": "python3"
  },
  "language_info": {
   "codemirror_mode": {
    "name": "ipython",
    "version": 3
   },
   "file_extension": ".py",
   "mimetype": "text/x-python",
   "name": "python",
   "nbconvert_exporter": "python",
   "pygments_lexer": "ipython3",
   "version": "3.6.3"
  }
 },
 "nbformat": 4,
 "nbformat_minor": 2
}
