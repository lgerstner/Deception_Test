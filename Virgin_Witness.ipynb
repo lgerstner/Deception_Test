{
 "cells": [
  {
   "cell_type": "code",
   "execution_count": null,
   "metadata": {},
   "outputs": [],
   "source": [
    "import pandas as pd\n",
    "import statsmodels.api as sm\n",
    "from statsmodels.formula.api import ols\n",
    "import scipy.stats as stats\n",
    "from statsmodels.stats.multicomp import pairwise_tukeyhsd\n",
    "from statsmodels.stats.multicomp import MultiComparison\n",
    "import statsmodels.stats.multicomp as ml\n",
    "import numpy as np\n",
    "import matplotlib.pyplot as plt\n",
    "%matplotlib inline"
   ]
  },
  {
   "cell_type": "code",
   "execution_count": null,
   "metadata": {
    "collapsed": true
   },
   "outputs": [],
   "source": [
    "df=pd.read_csv(\"baseline_questions.csv\")\n",
    "df2 = pd.DataFrame([])\n",
    "name_dict = []\n",
    "good_files = []\n",
    "datetimes = []"
   ]
  },
  {
   "cell_type": "code",
   "execution_count": null,
   "metadata": {},
   "outputs": [],
   "source": [
    "df['virgin_witness'] = 0\n",
    "df"
   ]
  },
  {
   "cell_type": "code",
   "execution_count": null,
   "metadata": {},
   "outputs": [],
   "source": [
    "files = df['Filename'].values\n",
    "files"
   ]
  },
  {
   "cell_type": "code",
   "execution_count": null,
   "metadata": {},
   "outputs": [],
   "source": [
    "i = 0\n",
    "for file in files:\n",
    "    word_list = file.split(\"-\")\n",
    "    username = word_list[8]\n",
    "\n",
    "    # check if username has already been used\n",
    "    if username in name_dict:\n",
    "        # check to see if the exact same date has already been used because that means it is still the first time for witness\n",
    "        if file in good_files:\n",
    "                df.loc[i,'virgin_witness'] = 1\n",
    "        else:\n",
    "        # if username has been used and it is a new date that means it is not the first time for the witness\n",
    "                df.loc[i,'virgin_witness'] = 0   \n",
    "    else:\n",
    "        # if the username is not in the list add it\n",
    "        name_dict.append(username)\n",
    "        # add this file to the list of files that are a virgin witness\n",
    "        good_files.append(file)\n",
    "        # add the name of the file to the good file list\n",
    "        good_files.append(datetime)\n",
    "        # The person is a virgin witness if their name is not in the names list at all\n",
    "        df.loc[i,'virgin_witness'] = 1\n",
    "    i = i+1\n",
    "    "
   ]
  },
  {
   "cell_type": "code",
   "execution_count": null,
   "metadata": {},
   "outputs": [],
   "source": [
    "dfnon_virgin = df[df['virgin_witness'] == 0]\n",
    "dfnon_virgin"
   ]
  },
  {
   "cell_type": "code",
   "execution_count": null,
   "metadata": {},
   "outputs": [],
   "source": [
    "len(good_files)"
   ]
  },
  {
   "cell_type": "code",
   "execution_count": null,
   "metadata": {},
   "outputs": [],
   "source": [
    "df"
   ]
  },
  {
   "cell_type": "code",
   "execution_count": null,
   "metadata": {},
   "outputs": [],
   "source": [
    "virgin_witness = df[(df['virgin_witness'] == 1)]\n",
    "virgin_witness.to_csv(\"virgin_witness.csv\", index=False)"
   ]
  },
  {
   "cell_type": "code",
   "execution_count": null,
   "metadata": {},
   "outputs": [],
   "source": [
    "amb = virgin_witness[(virgin_witness['question_label'] == 'ambiguous')]\n",
    "bt = virgin_witness[(virgin_witness['question_label'] == 'baseline_truth')]\n",
    "mr = virgin_witness[(virgin_witness['question_label'] == 'memory_recall')]\n",
    "cog = virgin_witness[(virgin_witness['question_label'] == 'cognitive')]\n",
    "unc = virgin_witness[(virgin_witness['question_label'] == 'uncomfortable')]\n",
    "\n",
    "df2 = pd.DataFrame([])\n",
    "df3 = pd.DataFrame([])\n",
    "\n",
    "# display average au levels for each type of baseline question\n",
    "for d in [amb,bt,mr,cog,unc]:\n",
    "    print('----')\n",
    "    print(d.mean())\n",
    "    df2 = df2.append(d.mean(), ignore_index=True)\n",
    "    df3 = df3.append(d, ignore_index=True)"
   ]
  },
  {
   "cell_type": "code",
   "execution_count": null,
   "metadata": {},
   "outputs": [],
   "source": [
    "# Plot histograms for distributions of AU levels\n",
    "for c in virgin_witness.iloc[:,2:-2]:\n",
    "    virgin_witness.hist(column = virgin_witness[c].name,bins=100)\n",
    "    \n"
   ]
  },
  {
   "cell_type": "code",
   "execution_count": null,
   "metadata": {},
   "outputs": [],
   "source": [
    "# Plot average AU level for each AU for each question \n",
    "for c in df2.iloc[:,:-2]:\n",
    "    au = pd.DataFrame([])\n",
    "    au = df2.filter([c],axis=1)\n",
    "    au.plot.bar()"
   ]
  },
  {
   "cell_type": "code",
   "execution_count": null,
   "metadata": {},
   "outputs": [],
   "source": [
    "# Use the ANOVA one way test for each AU level\n",
    "\n",
    "for c in df3.iloc[:,2:-2]:\n",
    "    print(c)\n",
    "    F, p = stats.f_oneway(amb[c],bt[c],mr[c],cog[c],unc[c])\n",
    "    print(F,p)\n",
    "    print('-------\\n')\n",
    "    "
   ]
  },
  {
   "cell_type": "code",
   "execution_count": null,
   "metadata": {},
   "outputs": [],
   "source": [
    "# Now that we have a p-value for AU05 of ~ .06 use Tukey's test to see where\n",
    "# the significance is coming from\n",
    "\n",
    "mc = MultiComparison(df3['AU05_r'],df3['question_label'])\n",
    "result = mc.tukeyhsd()\n",
    " \n",
    "print(result)\n",
    "print(mc.groupsunique)\n"
   ]
  }
 ],
 "metadata": {
  "kernelspec": {
   "display_name": "Python 3",
   "language": "python",
   "name": "python3"
  },
  "language_info": {
   "codemirror_mode": {
    "name": "ipython",
    "version": 3
   },
   "file_extension": ".py",
   "mimetype": "text/x-python",
   "name": "python",
   "nbconvert_exporter": "python",
   "pygments_lexer": "ipython3",
   "version": "3.6.3"
  }
 },
 "nbformat": 4,
 "nbformat_minor": 2
}
