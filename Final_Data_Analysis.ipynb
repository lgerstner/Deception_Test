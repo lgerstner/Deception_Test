{
 "cells": [
  {
   "cell_type": "markdown",
   "metadata": {},
   "source": [
    "## Data Analysis on Sanctioned Lies Data Set All Witnesses\n"
   ]
  },
  {
   "cell_type": "code",
   "execution_count": null,
   "metadata": {},
   "outputs": [],
   "source": [
    "import pandas as pd\n",
    "import statsmodels.api as sm\n",
    "from statsmodels.formula.api import ols\n",
    "import scipy.stats as stats\n",
    "from statsmodels.stats.multicomp import pairwise_tukeyhsd\n",
    "from statsmodels.stats.multicomp import MultiComparison\n",
    "import statsmodels.stats.multicomp as ml\n",
    "import numpy as np\n",
    "import matplotlib.pyplot as plt\n",
    "from scipy.stats import friedmanchisquare\n",
    "%matplotlib inline"
   ]
  },
  {
   "cell_type": "code",
   "execution_count": null,
   "metadata": {},
   "outputs": [],
   "source": [
    "df=pd.read_csv(\"equal_baseline.csv\")"
   ]
  },
  {
   "cell_type": "code",
   "execution_count": null,
   "metadata": {
    "collapsed": true
   },
   "outputs": [],
   "source": [
    "df"
   ]
  },
  {
   "cell_type": "code",
   "execution_count": null,
   "metadata": {},
   "outputs": [],
   "source": [
    "# Partition the data based on question label \n",
    "amb = df[(df['question_label'] == 'ambiguous')]\n",
    "bt = df[(df['question_label'] == 'baseline_truth')]\n",
    "mr = df[(df['question_label'] == 'memory_recall')]\n",
    "cog = df[(df['question_label'] == 'cognitive')]\n",
    "unc = df[(df['question_label'] == 'uncomfortable')]\n",
    "\n",
    "df2 = pd.DataFrame([])\n",
    "df3 = pd.DataFrame([])\n",
    "\n",
    "# display average au levels for each type of baseline question\n",
    "for d in [amb,bt,mr,cog,unc]:\n",
    "    print('----')\n",
    "    print(d.mean())\n",
    "    df2 = df2.append(d.mean(), ignore_index=True)\n",
    "    df3 = df3.append(d, ignore_index=True)"
   ]
  },
  {
   "cell_type": "code",
   "execution_count": null,
   "metadata": {
    "collapsed": true
   },
   "outputs": [],
   "source": [
    "for c in df3.iloc[:,2:-1]:\n",
    "    print(c)\n",
    "    stat, p = friedmanchisquare(amb[c],bt[c],mr[c],cog[c],unc[c])\n",
    "    print(stat,p)\n",
    "    print('-------\\n')\n",
    "    \n",
    "                   "
   ]
  },
  {
   "cell_type": "code",
   "execution_count": null,
   "metadata": {
    "collapsed": true
   },
   "outputs": [],
   "source": [
    "for c in df3.iloc[:,2:-1]:\n",
    "    df3.hist(column = df3[c].name,bins=100)\n",
    "    "
   ]
  },
  {
   "cell_type": "code",
   "execution_count": null,
   "metadata": {
    "scrolled": false
   },
   "outputs": [],
   "source": [
    "# Plot average AU level for each AU for each question \n",
    "for c in df2.iloc[:,:-1]:\n",
    "    au = pd.DataFrame([])\n",
    "    au = df2.filter([c],axis=1)\n",
    "    au.plot.bar()\n",
    "    "
   ]
  },
  {
   "cell_type": "code",
   "execution_count": null,
   "metadata": {},
   "outputs": [],
   "source": [
    "# Plot boxplots for each AU across each question\n",
    "for c in df2.iloc[:,:-1]:\n",
    "    df.boxplot(column = c, by = 'question_label')\n",
    "    plt.title(c)\n",
    "    plt.suptitle('')\n",
    "    plt.show"
   ]
  },
  {
   "cell_type": "markdown",
   "metadata": {},
   "source": [
    "### Compare ambiguous to all other groups"
   ]
  },
  {
   "cell_type": "code",
   "execution_count": null,
   "metadata": {
    "collapsed": true
   },
   "outputs": [],
   "source": [
    "# Compare ambiguous and baseline truth \n",
    "\n",
    "for c in df3.iloc[:,2:-1]:\n",
    "    print(c)\n",
    "    stat, p = stats.mannwhitneyu(amb[c],bt[c])\n",
    "    p = p * 10\n",
    "    if p < .05:\n",
    "        print('Significant with p-value: ',p)\n",
    "    print('-------\\n')\n",
    "    "
   ]
  },
  {
   "cell_type": "code",
   "execution_count": null,
   "metadata": {
    "collapsed": true
   },
   "outputs": [],
   "source": [
    "# Compare ambiguous and memory recall\n",
    "\n",
    "for c in df3.iloc[:,2:-1]:\n",
    "    print(c)\n",
    "    stat, p = stats.mannwhitneyu(amb[c],mr[c])  \n",
    "    p = p * 10\n",
    "    if p < .05:\n",
    "        print('Significant with p-value: ' , p)\n",
    "    print('-------\\n')\n",
    "    "
   ]
  },
  {
   "cell_type": "code",
   "execution_count": null,
   "metadata": {
    "collapsed": true
   },
   "outputs": [],
   "source": [
    "# Compare ambiguous and cognitive\n",
    "\n",
    "for c in df3.iloc[:,2:-1]:\n",
    "    print(c)\n",
    "    stat, p = stats.mannwhitneyu(amb[c],cog[c])\n",
    "    p = p * 10\n",
    "    if p < .05:\n",
    "        print('Significant with p-value: ' , p)\n",
    "    print('-------\\n')\n",
    "    \n",
    "    "
   ]
  },
  {
   "cell_type": "code",
   "execution_count": null,
   "metadata": {
    "collapsed": true,
    "scrolled": true
   },
   "outputs": [],
   "source": [
    "# Compare ambiguous and uncomfortable\n",
    "\n",
    "for c in df3.iloc[:,2:-1]:\n",
    "    print(c)\n",
    "    stat, p = stats.mannwhitneyu(amb[c],unc[c])  \n",
    "    p = p * 10\n",
    "    if p < .05:\n",
    "        print('Significant with p-value: ' , p)\n",
    "    print('-------\\n')\n",
    "    \n",
    "    "
   ]
  },
  {
   "cell_type": "markdown",
   "metadata": {},
   "source": [
    "### Compare baseline truth to other groups"
   ]
  },
  {
   "cell_type": "code",
   "execution_count": null,
   "metadata": {
    "collapsed": true
   },
   "outputs": [],
   "source": [
    "# Compare baseline truth and memory recall \n",
    "\n",
    "for c in df3.iloc[:,2:-1]:\n",
    "    print(c)\n",
    "    stat, p = stats.mannwhitneyu(bt[c],mr[c])\n",
    "    p = p * 10\n",
    "    if p < .05:\n",
    "        print('Significant with p-value: ' , p)\n",
    "    print('-------\\n')\n",
    "    \n",
    "    "
   ]
  },
  {
   "cell_type": "code",
   "execution_count": null,
   "metadata": {
    "collapsed": true
   },
   "outputs": [],
   "source": [
    "# Compare baseline truth and cognitive\n",
    "\n",
    "for c in df3.iloc[:,2:-1]:\n",
    "    print(c)\n",
    "    stat, p = stats.mannwhitneyu(bt[c],cog[c])    \n",
    "    p = p * 10\n",
    "    if p < .05:\n",
    "        print('Significant with p-value: ' , p)\n",
    "    print('-------\\n')\n",
    "    "
   ]
  },
  {
   "cell_type": "code",
   "execution_count": null,
   "metadata": {
    "collapsed": true
   },
   "outputs": [],
   "source": [
    "# Compare baseline truth and uncomfortable\n",
    "\n",
    "for c in df3.iloc[:,2:-1]:\n",
    "    print(c)\n",
    "    stat, p = stats.mannwhitneyu(bt[c],unc[c])  \n",
    "    p = p * 10\n",
    "    if p < .05:\n",
    "        print('Significant with p-value: ' , p)\n",
    "    print('-------\\n')\n",
    "    "
   ]
  },
  {
   "cell_type": "markdown",
   "metadata": {},
   "source": [
    "### Compare memory recall to other groups"
   ]
  },
  {
   "cell_type": "code",
   "execution_count": null,
   "metadata": {
    "collapsed": true
   },
   "outputs": [],
   "source": [
    "# Compare memory recall and cognitive\n",
    "\n",
    "for c in df3.iloc[:,2:-1]:\n",
    "    print(c)\n",
    "    stat, p = stats.mannwhitneyu(mr[c],cog[c])    \n",
    "    p = p * 10\n",
    "    if p < .05:\n",
    "        print('Significant with p-value: ' , p)\n",
    "    print('-------\\n')\n",
    "    "
   ]
  },
  {
   "cell_type": "code",
   "execution_count": null,
   "metadata": {
    "collapsed": true,
    "scrolled": true
   },
   "outputs": [],
   "source": [
    "# Compare memory recall and uncomfortable\n",
    "\n",
    "for c in df3.iloc[:,2:-1]:\n",
    "    print(c)\n",
    "    stat, p = stats.mannwhitneyu(mr[c],unc[c]) \n",
    "    p = p * 10\n",
    "    if p < .05:\n",
    "        print('Significant with p-value: ' , p)\n",
    "    print('-------\\n')\n",
    "    "
   ]
  },
  {
   "cell_type": "markdown",
   "metadata": {},
   "source": [
    "### Compare cognitive to last group"
   ]
  },
  {
   "cell_type": "code",
   "execution_count": null,
   "metadata": {
    "collapsed": true
   },
   "outputs": [],
   "source": [
    "# Compare cognitive and uncomfortable\n",
    "\n",
    "for c in df3.iloc[:,2:-1]:\n",
    "    print(c)\n",
    "    stat, p = stats.mannwhitneyu(cog[c],unc[c])\n",
    "    p = p * 10\n",
    "    if p < .05:\n",
    "        print('Significant with p-value: ' , p)\n",
    "    print('-------\\n')\n",
    "    "
   ]
  }
 ],
 "metadata": {
  "kernelspec": {
   "display_name": "Python 3",
   "language": "python",
   "name": "python3"
  },
  "language_info": {
   "codemirror_mode": {
    "name": "ipython",
    "version": 3
   },
   "file_extension": ".py",
   "mimetype": "text/x-python",
   "name": "python",
   "nbconvert_exporter": "python",
   "pygments_lexer": "ipython3",
   "version": "3.6.3"
  }
 },
 "nbformat": 4,
 "nbformat_minor": 2
}
